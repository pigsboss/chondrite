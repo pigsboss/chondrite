{
 "cells": [
  {
   "cell_type": "code",
   "execution_count": 8,
   "id": "060e29a2-af58-432a-9d57-a9c1df24bd67",
   "metadata": {
    "tags": []
   },
   "outputs": [
    {
     "name": "stdout",
     "output_type": "stream",
     "text": [
      "Corr: 0.955687\n",
      "S.A.: 17.120659 degrees\n"
     ]
    }
   ],
   "source": [
    "run spec.py ../data/sample-Ordinary\\ Chondrite\\ L4.xlsx -s 3 -p text.pdf"
   ]
  },
  {
   "cell_type": "code",
   "execution_count": 3,
   "id": "037cedaf-01da-4720-bc5b-e0ddcf831493",
   "metadata": {
    "tags": []
   },
   "outputs": [
    {
     "data": {
      "text/plain": [
       "2.5316162111946827"
      ]
     },
     "execution_count": 3,
     "metadata": {},
     "output_type": "execute_result"
    }
   ],
   "source": [
    "np.rad2deg(np.arccos(0.999024))"
   ]
  },
  {
   "cell_type": "code",
   "execution_count": 19,
   "id": "ea50a837-0d84-437e-b747-343b2684a7e0",
   "metadata": {
    "tags": []
   },
   "outputs": [],
   "source": [
    "from scipy.optimize import curve_fit"
   ]
  },
  {
   "cell_type": "code",
   "execution_count": 24,
   "id": "27ae0b9f-18bd-4ba1-b261-83bd8eb8ef76",
   "metadata": {
    "tags": []
   },
   "outputs": [],
   "source": [
    "x=np.arange(0,10,.1)\n",
    "y=np.sin(x)\n",
    "popt,pcov=curve_fit(lambda u,a,b:a*u+b, x, y)"
   ]
  },
  {
   "cell_type": "code",
   "execution_count": 22,
   "id": "b672bf60-01ff-4b9c-8a6f-3e23e871ffa1",
   "metadata": {
    "tags": []
   },
   "outputs": [
    {
     "data": {
      "text/plain": [
       "array([-0.01343179,  0.25296135])"
      ]
     },
     "execution_count": 22,
     "metadata": {},
     "output_type": "execute_result"
    }
   ],
   "source": []
  },
  {
   "cell_type": "code",
   "execution_count": null,
   "id": "5421bae6-0c37-474c-8e44-6a2398511b58",
   "metadata": {},
   "outputs": [],
   "source": []
  }
 ],
 "metadata": {
  "kernelspec": {
   "display_name": "Python 3 (ipykernel)",
   "language": "python",
   "name": "python3"
  },
  "language_info": {
   "codemirror_mode": {
    "name": "ipython",
    "version": 3
   },
   "file_extension": ".py",
   "mimetype": "text/x-python",
   "name": "python",
   "nbconvert_exporter": "python",
   "pygments_lexer": "ipython3",
   "version": "3.11.3"
  }
 },
 "nbformat": 4,
 "nbformat_minor": 5
}
